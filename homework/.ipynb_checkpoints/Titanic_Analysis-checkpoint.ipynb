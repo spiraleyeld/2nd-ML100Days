{
 "cells": [
  {
   "cell_type": "code",
   "execution_count": 111,
   "metadata": {
    "collapsed": true
   },
   "outputs": [],
   "source": [
    "import pandas as pd\n",
    "from sklearn.model_selection import train_test_split\n",
    "\n",
    "#这个设置会关闭掉copywarning，也有人提问到关闭这个warning过后，速度更快，有待验证\n",
    "pd.options.mode.chained_assignment = None\n",
    "\n",
    "# Table 說明\n",
    "# Variable\tDefinition\tKey\n",
    "# PassengerId\t乘客ID編號\t\n",
    "# survival\t是否倖存\t0 = No, 1 = Yes\n",
    "# pclass\t船票等級\t1 = 1st, 2 = 2nd, 3 = 3rd\n",
    "# sex\t性別\t\n",
    "# Age\t年齡\t\n",
    "# sibsp\t在船上同為兄弟姐妹或配偶的數目\t\n",
    "# parch\t在船上同為家族的父母及小孩的數目\t\n",
    "# ticket\t船票編號\t\n",
    "# fare\t船票價格\t\n",
    "# cabin\t船艙號碼\t\n",
    "# embarked\t登船的口岸\n",
    "# \t\tC = Cherbourg\n",
    "# \t\tQ = Queenstown,\n",
    "# \t\tS = Southampton"
   ]
  },
  {
   "cell_type": "code",
   "execution_count": 146,
   "metadata": {},
   "outputs": [
    {
     "name": "stdout",
     "output_type": "stream",
     "text": [
      "The accuracy of eXtreme Gradient Boosting Classifier on testing set: 0.854096520763\n"
     ]
    }
   ],
   "source": [
    "## 多變數分析\n",
    "\n",
    "data_path = 'D:/GitHub/Data/Data1/'\n",
    "df_train = pd.read_csv(data_path + 'titanic_train.csv')\n",
    "df_test = pd.read_csv(data_path + 'titanic_test.csv')\n",
    "df_data = df_train.append(df_test)\n",
    "\n",
    "# Convert Sex\n",
    "df_data['Sex'] =df_data['Sex'].map({'male':0,'female':1})\n",
    "\n",
    "#補缺值\n",
    "df_data['Age'] = df_data['Age'].fillna(df_data['Age'].mean())\n",
    "\n",
    "# split training set the testing set\n",
    "df_train = df_data[:len(df_train)]\n",
    "df_test = df_data[len(df_train):]\n",
    "\n",
    "# Inputs set and labels\n",
    "X = df_train.drop(labels=['Survived','PassengerId'],axis=1)\n",
    "Y = df_train['Survived']\n",
    "X.head()\n",
    "\n",
    "\n",
    "# 使用XGBoost\n",
    "\n",
    "#決定要用什麼features\n",
    "Base = ['Pclass','Age','Sex','SibSp','Parch']\n",
    "\n",
    "Base_Model = XGBClassifier()\n",
    "Base_Model.fit(X[Base], Y)\n",
    "print('The accuracy of eXtreme Gradient Boosting Classifier on testing set:', Base_Model.score(X[Base], Y))\n",
    "\n",
    "# submits (使用Test資料)\n",
    "X_Submit = df_test.drop(labels=['PassengerId'],axis=1)\n",
    "\n",
    "X_Submit[Base].head()\n",
    "\n",
    "#餵每個人的資料，判斷是死還是活\n",
    "Base_pred = Base_Model.predict(X_Submit[Base])\n",
    "\n",
    "submit = pd.DataFrame({\"PassengerId\": df_test['PassengerId'],\n",
    "                       \"Survived\":Base_pred.astype(int)})\n",
    "submit.to_csv(\"submit_XGB.csv\",index=False)\n"
   ]
  },
  {
   "cell_type": "code",
   "execution_count": 147,
   "metadata": {},
   "outputs": [
    {
     "name": "stdout",
     "output_type": "stream",
     "text": [
      "The accuracy of Random Forest Classifier on testing set: 0.820627802691\n",
      "The accuracy of eXtreme Gradient Boosting Classifier on testing set: 0.856502242152\n"
     ]
    }
   ],
   "source": [
    "## Simple 分析\n",
    "\n",
    "data_path = 'D:/GitHub/Data/Data1/'\n",
    "titanic = pd.read_csv(data_path + 'titanic_train.csv')\n",
    "  \n",
    "#指定 Features\n",
    "X = titanic[['Pclass', 'Age', 'Sex','SibSp','Parch']]\n",
    "#指定 Target\n",
    "y = titanic['Survived']\n",
    "\n",
    "#補缺值\n",
    "X['Age'] = X['Age'].fillna(X['Age'].mean())\n",
    "\n",
    "#取資料集(Train, Test)\n",
    "X_train, X_test, y_train, y_test = train_test_split(X, y, test_size=0.25, random_state=33)\n",
    "\n",
    "## 取代值\n",
    "X_train['Sex'] = X_train['Sex'].map({'male':0,'female':1})\n",
    "X_test['Sex'] = X_test['Sex'].map({'male':0,'female':1})\n",
    "\n",
    "# 使用隨機森林\n",
    "rfc = RandomForestClassifier()\n",
    "rfc.fit(X_train, y_train)\n",
    "print('The accuracy of Random Forest Classifier on testing set:', rfc.score(X_test, y_test))\n",
    "\n",
    "# 使用XGBoost\n",
    "xgbc = XGBClassifier()\n",
    "xgbc.fit(X_train, y_train)\n",
    "print('The accuracy of eXtreme Gradient Boosting Classifier on testing set:', xgbc.score(X_test, y_test))\n",
    "\n",
    "# submits\n",
    "X_Submit = df_test.drop(labels=['PassengerId'],axis=1)\n",
    "\n",
    "X_Submit[Base].head()\n",
    "\n",
    "Base_pred = Base_Model.predict(X_Submit[Base])\n",
    "\n",
    "submit = pd.DataFrame({\"PassengerId\": df_test['PassengerId'],\n",
    "                      \"Survived\":Base_pred.astype(int)})\n",
    "submit.to_csv(\"submit_XGB.csv\",index=False)\n"
   ]
  }
 ],
 "metadata": {
  "kernelspec": {
   "display_name": "Python 3",
   "language": "python",
   "name": "python3"
  },
  "language_info": {
   "codemirror_mode": {
    "name": "ipython",
    "version": 3
   },
   "file_extension": ".py",
   "mimetype": "text/x-python",
   "name": "python",
   "nbconvert_exporter": "python",
   "pygments_lexer": "ipython3",
   "version": "3.6.1"
  }
 },
 "nbformat": 4,
 "nbformat_minor": 2
}
